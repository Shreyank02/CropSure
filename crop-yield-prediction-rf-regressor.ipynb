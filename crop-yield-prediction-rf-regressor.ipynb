{
 "cells": [
  {
   "cell_type": "code",
   "execution_count": 3,
   "id": "8ed29c74",
   "metadata": {
    "papermill": {
     "duration": 0.744293,
     "end_time": "2024-08-26T18:43:05.232014",
     "exception": false,
     "start_time": "2024-08-26T18:43:04.487721",
     "status": "completed"
    },
    "tags": []
   },
   "outputs": [],
   "source": [
    "import numpy as np\n",
    "import pandas as pd "
   ]
  },
  {
   "cell_type": "code",
   "execution_count": 4,
   "id": "5035bd49",
   "metadata": {
    "papermill": {
     "duration": 0.080908,
     "end_time": "2024-08-26T18:43:05.322689",
     "exception": false,
     "start_time": "2024-08-26T18:43:05.241781",
     "status": "completed"
    },
    "tags": []
   },
   "outputs": [],
   "source": [
    "df = pd.read_csv('./crop_yield.csv')"
   ]
  },
  {
   "cell_type": "code",
   "execution_count": 5,
   "id": "5ffd9a49",
   "metadata": {
    "papermill": {
     "duration": 0.036512,
     "end_time": "2024-08-26T18:43:05.369081",
     "exception": false,
     "start_time": "2024-08-26T18:43:05.332569",
     "status": "completed"
    },
    "tags": []
   },
   "outputs": [
    {
     "data": {
      "text/html": [
       "<div>\n",
       "<style scoped>\n",
       "    .dataframe tbody tr th:only-of-type {\n",
       "        vertical-align: middle;\n",
       "    }\n",
       "\n",
       "    .dataframe tbody tr th {\n",
       "        vertical-align: top;\n",
       "    }\n",
       "\n",
       "    .dataframe thead th {\n",
       "        text-align: right;\n",
       "    }\n",
       "</style>\n",
       "<table border=\"1\" class=\"dataframe\">\n",
       "  <thead>\n",
       "    <tr style=\"text-align: right;\">\n",
       "      <th></th>\n",
       "      <th>Crop</th>\n",
       "      <th>Crop_Year</th>\n",
       "      <th>Season</th>\n",
       "      <th>State</th>\n",
       "      <th>Area</th>\n",
       "      <th>Production</th>\n",
       "      <th>Annual_Rainfall</th>\n",
       "      <th>Fertilizer</th>\n",
       "      <th>Pesticide</th>\n",
       "      <th>Yield</th>\n",
       "    </tr>\n",
       "  </thead>\n",
       "  <tbody>\n",
       "    <tr>\n",
       "      <th>0</th>\n",
       "      <td>Arecanut</td>\n",
       "      <td>1997</td>\n",
       "      <td>Whole Year</td>\n",
       "      <td>Assam</td>\n",
       "      <td>73814.0</td>\n",
       "      <td>56708</td>\n",
       "      <td>2051.4</td>\n",
       "      <td>7024878.38</td>\n",
       "      <td>22882.34</td>\n",
       "      <td>0.796087</td>\n",
       "    </tr>\n",
       "    <tr>\n",
       "      <th>1</th>\n",
       "      <td>Arhar/Tur</td>\n",
       "      <td>1997</td>\n",
       "      <td>Kharif</td>\n",
       "      <td>Assam</td>\n",
       "      <td>6637.0</td>\n",
       "      <td>4685</td>\n",
       "      <td>2051.4</td>\n",
       "      <td>631643.29</td>\n",
       "      <td>2057.47</td>\n",
       "      <td>0.710435</td>\n",
       "    </tr>\n",
       "    <tr>\n",
       "      <th>2</th>\n",
       "      <td>Castor seed</td>\n",
       "      <td>1997</td>\n",
       "      <td>Kharif</td>\n",
       "      <td>Assam</td>\n",
       "      <td>796.0</td>\n",
       "      <td>22</td>\n",
       "      <td>2051.4</td>\n",
       "      <td>75755.32</td>\n",
       "      <td>246.76</td>\n",
       "      <td>0.238333</td>\n",
       "    </tr>\n",
       "    <tr>\n",
       "      <th>3</th>\n",
       "      <td>Coconut</td>\n",
       "      <td>1997</td>\n",
       "      <td>Whole Year</td>\n",
       "      <td>Assam</td>\n",
       "      <td>19656.0</td>\n",
       "      <td>126905000</td>\n",
       "      <td>2051.4</td>\n",
       "      <td>1870661.52</td>\n",
       "      <td>6093.36</td>\n",
       "      <td>5238.051739</td>\n",
       "    </tr>\n",
       "    <tr>\n",
       "      <th>4</th>\n",
       "      <td>Cotton(lint)</td>\n",
       "      <td>1997</td>\n",
       "      <td>Kharif</td>\n",
       "      <td>Assam</td>\n",
       "      <td>1739.0</td>\n",
       "      <td>794</td>\n",
       "      <td>2051.4</td>\n",
       "      <td>165500.63</td>\n",
       "      <td>539.09</td>\n",
       "      <td>0.420909</td>\n",
       "    </tr>\n",
       "  </tbody>\n",
       "</table>\n",
       "</div>"
      ],
      "text/plain": [
       "           Crop  Crop_Year       Season  State     Area  Production  \\\n",
       "0      Arecanut       1997  Whole Year   Assam  73814.0       56708   \n",
       "1     Arhar/Tur       1997  Kharif       Assam   6637.0        4685   \n",
       "2   Castor seed       1997  Kharif       Assam    796.0          22   \n",
       "3      Coconut        1997  Whole Year   Assam  19656.0   126905000   \n",
       "4  Cotton(lint)       1997  Kharif       Assam   1739.0         794   \n",
       "\n",
       "   Annual_Rainfall  Fertilizer  Pesticide        Yield  \n",
       "0           2051.4  7024878.38   22882.34     0.796087  \n",
       "1           2051.4   631643.29    2057.47     0.710435  \n",
       "2           2051.4    75755.32     246.76     0.238333  \n",
       "3           2051.4  1870661.52    6093.36  5238.051739  \n",
       "4           2051.4   165500.63     539.09     0.420909  "
      ]
     },
     "execution_count": 5,
     "metadata": {},
     "output_type": "execute_result"
    }
   ],
   "source": [
    "df.head(5)"
   ]
  },
  {
   "cell_type": "code",
   "execution_count": 6,
   "id": "56e80e6e",
   "metadata": {
    "papermill": {
     "duration": 0.021164,
     "end_time": "2024-08-26T18:43:05.399819",
     "exception": false,
     "start_time": "2024-08-26T18:43:05.378655",
     "status": "completed"
    },
    "tags": []
   },
   "outputs": [
    {
     "data": {
      "text/plain": [
       "array(['Whole Year ', 'Kharif     ', 'Rabi       ', 'Autumn     ',\n",
       "       'Summer     ', 'Winter     '], dtype=object)"
      ]
     },
     "execution_count": 6,
     "metadata": {},
     "output_type": "execute_result"
    }
   ],
   "source": [
    "df['Season'].unique()"
   ]
  },
  {
   "cell_type": "code",
   "execution_count": 7,
   "id": "d8632b3b",
   "metadata": {
    "papermill": {
     "duration": 0.018403,
     "end_time": "2024-08-26T18:43:05.428292",
     "exception": false,
     "start_time": "2024-08-26T18:43:05.409889",
     "status": "completed"
    },
    "tags": []
   },
   "outputs": [
    {
     "data": {
      "text/plain": [
       "(19689, 10)"
      ]
     },
     "execution_count": 7,
     "metadata": {},
     "output_type": "execute_result"
    }
   ],
   "source": [
    "df.shape"
   ]
  },
  {
   "cell_type": "markdown",
   "id": "3f89f547",
   "metadata": {
    "papermill": {
     "duration": 0.010161,
     "end_time": "2024-08-26T18:43:05.448866",
     "exception": false,
     "start_time": "2024-08-26T18:43:05.438705",
     "status": "completed"
    },
    "tags": []
   },
   "source": [
    "# Data Preprocessing"
   ]
  },
  {
   "cell_type": "code",
   "execution_count": 9,
   "id": "7d3f9aa9",
   "metadata": {
    "papermill": {
     "duration": 0.021651,
     "end_time": "2024-08-26T18:43:05.481647",
     "exception": false,
     "start_time": "2024-08-26T18:43:05.459996",
     "status": "completed"
    },
    "tags": []
   },
   "outputs": [],
   "source": [
    "df=df[df['Crop_Year']!=2020]"
   ]
  },
  {
   "cell_type": "code",
   "execution_count": 10,
   "id": "ee7c9e54",
   "metadata": {
    "papermill": {
     "duration": 0.025945,
     "end_time": "2024-08-26T18:43:05.518222",
     "exception": false,
     "start_time": "2024-08-26T18:43:05.492277",
     "status": "completed"
    },
    "tags": []
   },
   "outputs": [],
   "source": [
    "# removing spaces prresent in season column\n",
    "df['Season'] = df['Season'].str.strip()"
   ]
  },
  {
   "cell_type": "code",
   "execution_count": 11,
   "id": "5fe2e33d",
   "metadata": {
    "papermill": {
     "duration": 0.435746,
     "end_time": "2024-08-26T18:43:05.964132",
     "exception": false,
     "start_time": "2024-08-26T18:43:05.528386",
     "status": "completed"
    },
    "tags": []
   },
   "outputs": [],
   "source": [
    "# Convert Fertilizer and pesticide columns from kgs into tons\n",
    "\n",
    "df['Fertilizer'] = df['Fertilizer'].apply(lambda x: x/1000)\n",
    "df['Fertilizer'] = df['Fertilizer'].apply(lambda x: np.round(x,3))\n",
    "\n",
    "df['Pesticide'] = df['Pesticide'].apply(lambda x: x/1000)\n",
    "df['Pesticide'] = df['Pesticide'].apply(lambda x: np.round(x,3))"
   ]
  },
  {
   "cell_type": "code",
   "execution_count": 12,
   "id": "710e7828",
   "metadata": {
    "papermill": {
     "duration": 0.019184,
     "end_time": "2024-08-26T18:43:05.994341",
     "exception": false,
     "start_time": "2024-08-26T18:43:05.975157",
     "status": "completed"
    },
    "tags": []
   },
   "outputs": [],
   "source": [
    "df['Input_Per_Unit_Area'] = (df['Fertilizer'] + df['Pesticide']) / df['Area']"
   ]
  },
  {
   "cell_type": "code",
   "execution_count": 13,
   "id": "f0a28c34",
   "metadata": {
    "papermill": {
     "duration": 0.022144,
     "end_time": "2024-08-26T18:43:06.027085",
     "exception": false,
     "start_time": "2024-08-26T18:43:06.004941",
     "status": "completed"
    },
    "tags": []
   },
   "outputs": [],
   "source": [
    "# dropping this row because it's a extreme outlier\n",
    "df.drop(119, inplace=True)"
   ]
  },
  {
   "cell_type": "code",
   "execution_count": 14,
   "id": "ae807f75",
   "metadata": {
    "papermill": {
     "duration": 0.019151,
     "end_time": "2024-08-26T18:43:06.056630",
     "exception": false,
     "start_time": "2024-08-26T18:43:06.037479",
     "status": "completed"
    },
    "tags": []
   },
   "outputs": [],
   "source": [
    "df.drop(columns=['Fertilizer','Pesticide'], inplace=True)"
   ]
  },
  {
   "cell_type": "code",
   "execution_count": 15,
   "id": "2ee4fbdb",
   "metadata": {
    "papermill": {
     "duration": 0.023017,
     "end_time": "2024-08-26T18:43:06.089523",
     "exception": false,
     "start_time": "2024-08-26T18:43:06.066506",
     "status": "completed"
    },
    "tags": []
   },
   "outputs": [],
   "source": [
    "# Categorize crop_year\n",
    "bins = [1990, 2000, 2010, 2020]  # Example bins, adjust based on your data range\n",
    "labels = ['90s', '2000s', '2010s']\n",
    "df['Year_Interval'] = pd.cut(df['Crop_Year'], bins=bins, labels=labels)"
   ]
  },
  {
   "cell_type": "code",
   "execution_count": 16,
   "id": "bfe8d560",
   "metadata": {
    "papermill": {
     "duration": 0.019661,
     "end_time": "2024-08-26T18:43:06.119134",
     "exception": false,
     "start_time": "2024-08-26T18:43:06.099473",
     "status": "completed"
    },
    "tags": []
   },
   "outputs": [],
   "source": [
    "df.drop(columns=['Crop_Year'],inplace=True)"
   ]
  },
  {
   "cell_type": "code",
   "execution_count": 17,
   "id": "8d65ad38",
   "metadata": {
    "papermill": {
     "duration": 0.019627,
     "end_time": "2024-08-26T18:43:06.148948",
     "exception": false,
     "start_time": "2024-08-26T18:43:06.129321",
     "status": "completed"
    },
    "tags": []
   },
   "outputs": [
    {
     "data": {
      "text/plain": [
       "(19651, 9)"
      ]
     },
     "execution_count": 17,
     "metadata": {},
     "output_type": "execute_result"
    }
   ],
   "source": [
    "df.shape"
   ]
  },
  {
   "cell_type": "code",
   "execution_count": 18,
   "id": "a270abb4",
   "metadata": {
    "papermill": {
     "duration": 0.018512,
     "end_time": "2024-08-26T18:43:06.177659",
     "exception": false,
     "start_time": "2024-08-26T18:43:06.159147",
     "status": "completed"
    },
    "tags": []
   },
   "outputs": [
    {
     "data": {
      "text/plain": [
       "Index(['Crop', 'Season', 'State', 'Area', 'Production', 'Annual_Rainfall',\n",
       "       'Yield', 'Input_Per_Unit_Area', 'Year_Interval'],\n",
       "      dtype='object')"
      ]
     },
     "execution_count": 18,
     "metadata": {},
     "output_type": "execute_result"
    }
   ],
   "source": [
    "df.columns"
   ]
  },
  {
   "cell_type": "code",
   "execution_count": 19,
   "id": "13839d4d",
   "metadata": {
    "papermill": {
     "duration": 0.035933,
     "end_time": "2024-08-26T18:43:06.224035",
     "exception": false,
     "start_time": "2024-08-26T18:43:06.188102",
     "status": "completed"
    },
    "tags": []
   },
   "outputs": [
    {
     "name": "stdout",
     "output_type": "stream",
     "text": [
      "<class 'pandas.core.frame.DataFrame'>\n",
      "Index: 19651 entries, 0 to 19688\n",
      "Data columns (total 9 columns):\n",
      " #   Column               Non-Null Count  Dtype   \n",
      "---  ------               --------------  -----   \n",
      " 0   Crop                 19651 non-null  object  \n",
      " 1   Season               19651 non-null  object  \n",
      " 2   State                19651 non-null  object  \n",
      " 3   Area                 19651 non-null  float64 \n",
      " 4   Production           19651 non-null  int64   \n",
      " 5   Annual_Rainfall      19651 non-null  float64 \n",
      " 6   Yield                19651 non-null  float64 \n",
      " 7   Input_Per_Unit_Area  19651 non-null  float64 \n",
      " 8   Year_Interval        19651 non-null  category\n",
      "dtypes: category(1), float64(4), int64(1), object(3)\n",
      "memory usage: 1.4+ MB\n"
     ]
    }
   ],
   "source": [
    "df.info()"
   ]
  },
  {
   "cell_type": "code",
   "execution_count": 20,
   "id": "84d93bd0",
   "metadata": {
    "papermill": {
     "duration": 0.040696,
     "end_time": "2024-08-26T18:43:06.276511",
     "exception": false,
     "start_time": "2024-08-26T18:43:06.235815",
     "status": "completed"
    },
    "tags": []
   },
   "outputs": [
    {
     "data": {
      "text/html": [
       "<div>\n",
       "<style scoped>\n",
       "    .dataframe tbody tr th:only-of-type {\n",
       "        vertical-align: middle;\n",
       "    }\n",
       "\n",
       "    .dataframe tbody tr th {\n",
       "        vertical-align: top;\n",
       "    }\n",
       "\n",
       "    .dataframe thead th {\n",
       "        text-align: right;\n",
       "    }\n",
       "</style>\n",
       "<table border=\"1\" class=\"dataframe\">\n",
       "  <thead>\n",
       "    <tr style=\"text-align: right;\">\n",
       "      <th></th>\n",
       "      <th>Area</th>\n",
       "      <th>Production</th>\n",
       "      <th>Annual_Rainfall</th>\n",
       "      <th>Yield</th>\n",
       "      <th>Input_Per_Unit_Area</th>\n",
       "    </tr>\n",
       "  </thead>\n",
       "  <tbody>\n",
       "    <tr>\n",
       "      <th>count</th>\n",
       "      <td>1.965100e+04</td>\n",
       "      <td>1.965100e+04</td>\n",
       "      <td>19651.000000</td>\n",
       "      <td>19651.000000</td>\n",
       "      <td>19651.000000</td>\n",
       "    </tr>\n",
       "    <tr>\n",
       "      <th>mean</th>\n",
       "      <td>1.802272e+05</td>\n",
       "      <td>1.646721e+07</td>\n",
       "      <td>1437.967162</td>\n",
       "      <td>80.100282</td>\n",
       "      <td>0.137329</td>\n",
       "    </tr>\n",
       "    <tr>\n",
       "      <th>std</th>\n",
       "      <td>7.335000e+05</td>\n",
       "      <td>2.633101e+08</td>\n",
       "      <td>817.676055</td>\n",
       "      <td>879.148542</td>\n",
       "      <td>0.026137</td>\n",
       "    </tr>\n",
       "    <tr>\n",
       "      <th>min</th>\n",
       "      <td>5.000000e-01</td>\n",
       "      <td>0.000000e+00</td>\n",
       "      <td>301.300000</td>\n",
       "      <td>0.000000</td>\n",
       "      <td>0.094800</td>\n",
       "    </tr>\n",
       "    <tr>\n",
       "      <th>25%</th>\n",
       "      <td>1.396000e+03</td>\n",
       "      <td>1.400000e+03</td>\n",
       "      <td>940.700000</td>\n",
       "      <td>0.599372</td>\n",
       "      <td>0.108550</td>\n",
       "    </tr>\n",
       "    <tr>\n",
       "      <th>50%</th>\n",
       "      <td>9.328000e+03</td>\n",
       "      <td>1.383000e+04</td>\n",
       "      <td>1247.000000</td>\n",
       "      <td>1.030000</td>\n",
       "      <td>0.144760</td>\n",
       "    </tr>\n",
       "    <tr>\n",
       "      <th>75%</th>\n",
       "      <td>7.523800e+04</td>\n",
       "      <td>1.230055e+05</td>\n",
       "      <td>1643.700000</td>\n",
       "      <td>2.390714</td>\n",
       "      <td>0.158000</td>\n",
       "    </tr>\n",
       "    <tr>\n",
       "      <th>max</th>\n",
       "      <td>5.080810e+07</td>\n",
       "      <td>6.326000e+09</td>\n",
       "      <td>6552.700000</td>\n",
       "      <td>21105.000000</td>\n",
       "      <td>0.172500</td>\n",
       "    </tr>\n",
       "  </tbody>\n",
       "</table>\n",
       "</div>"
      ],
      "text/plain": [
       "               Area    Production  Annual_Rainfall         Yield  \\\n",
       "count  1.965100e+04  1.965100e+04     19651.000000  19651.000000   \n",
       "mean   1.802272e+05  1.646721e+07      1437.967162     80.100282   \n",
       "std    7.335000e+05  2.633101e+08       817.676055    879.148542   \n",
       "min    5.000000e-01  0.000000e+00       301.300000      0.000000   \n",
       "25%    1.396000e+03  1.400000e+03       940.700000      0.599372   \n",
       "50%    9.328000e+03  1.383000e+04      1247.000000      1.030000   \n",
       "75%    7.523800e+04  1.230055e+05      1643.700000      2.390714   \n",
       "max    5.080810e+07  6.326000e+09      6552.700000  21105.000000   \n",
       "\n",
       "       Input_Per_Unit_Area  \n",
       "count         19651.000000  \n",
       "mean              0.137329  \n",
       "std               0.026137  \n",
       "min               0.094800  \n",
       "25%               0.108550  \n",
       "50%               0.144760  \n",
       "75%               0.158000  \n",
       "max               0.172500  "
      ]
     },
     "execution_count": 20,
     "metadata": {},
     "output_type": "execute_result"
    }
   ],
   "source": [
    "df.describe()"
   ]
  },
  {
   "cell_type": "code",
   "execution_count": 21,
   "id": "527c72e2",
   "metadata": {
    "papermill": {
     "duration": 0.020445,
     "end_time": "2024-08-26T18:43:06.307925",
     "exception": false,
     "start_time": "2024-08-26T18:43:06.287480",
     "status": "completed"
    },
    "tags": []
   },
   "outputs": [
    {
     "data": {
      "text/plain": [
       "['90s', '2000s', '2010s']\n",
       "Categories (3, object): ['90s' < '2000s' < '2010s']"
      ]
     },
     "execution_count": 21,
     "metadata": {},
     "output_type": "execute_result"
    }
   ],
   "source": [
    "df['Year_Interval'].unique()"
   ]
  },
  {
   "cell_type": "code",
   "execution_count": 22,
   "id": "56cb13d3",
   "metadata": {
    "papermill": {
     "duration": 0.018823,
     "end_time": "2024-08-26T18:43:06.338207",
     "exception": false,
     "start_time": "2024-08-26T18:43:06.319384",
     "status": "completed"
    },
    "tags": []
   },
   "outputs": [
    {
     "data": {
      "text/plain": [
       "Index(['Crop', 'Season', 'State', 'Area', 'Production', 'Annual_Rainfall',\n",
       "       'Yield', 'Input_Per_Unit_Area', 'Year_Interval'],\n",
       "      dtype='object')"
      ]
     },
     "execution_count": 22,
     "metadata": {},
     "output_type": "execute_result"
    }
   ],
   "source": [
    "df.columns"
   ]
  },
  {
   "cell_type": "code",
   "execution_count": 23,
   "id": "a65d6bbb",
   "metadata": {
    "papermill": {
     "duration": 0.029126,
     "end_time": "2024-08-26T18:43:06.378282",
     "exception": false,
     "start_time": "2024-08-26T18:43:06.349156",
     "status": "completed"
    },
    "tags": []
   },
   "outputs": [
    {
     "data": {
      "text/html": [
       "<div>\n",
       "<style scoped>\n",
       "    .dataframe tbody tr th:only-of-type {\n",
       "        vertical-align: middle;\n",
       "    }\n",
       "\n",
       "    .dataframe tbody tr th {\n",
       "        vertical-align: top;\n",
       "    }\n",
       "\n",
       "    .dataframe thead th {\n",
       "        text-align: right;\n",
       "    }\n",
       "</style>\n",
       "<table border=\"1\" class=\"dataframe\">\n",
       "  <thead>\n",
       "    <tr style=\"text-align: right;\">\n",
       "      <th></th>\n",
       "      <th>Crop</th>\n",
       "      <th>Season</th>\n",
       "      <th>State</th>\n",
       "      <th>Area</th>\n",
       "      <th>Production</th>\n",
       "      <th>Annual_Rainfall</th>\n",
       "      <th>Yield</th>\n",
       "      <th>Input_Per_Unit_Area</th>\n",
       "      <th>Year_Interval</th>\n",
       "    </tr>\n",
       "  </thead>\n",
       "  <tbody>\n",
       "    <tr>\n",
       "      <th>0</th>\n",
       "      <td>Arecanut</td>\n",
       "      <td>Whole Year</td>\n",
       "      <td>Assam</td>\n",
       "      <td>73814.0</td>\n",
       "      <td>56708</td>\n",
       "      <td>2051.4</td>\n",
       "      <td>0.796087</td>\n",
       "      <td>0.09548</td>\n",
       "      <td>90s</td>\n",
       "    </tr>\n",
       "    <tr>\n",
       "      <th>1</th>\n",
       "      <td>Arhar/Tur</td>\n",
       "      <td>Kharif</td>\n",
       "      <td>Assam</td>\n",
       "      <td>6637.0</td>\n",
       "      <td>4685</td>\n",
       "      <td>2051.4</td>\n",
       "      <td>0.710435</td>\n",
       "      <td>0.09548</td>\n",
       "      <td>90s</td>\n",
       "    </tr>\n",
       "    <tr>\n",
       "      <th>2</th>\n",
       "      <td>Castor seed</td>\n",
       "      <td>Kharif</td>\n",
       "      <td>Assam</td>\n",
       "      <td>796.0</td>\n",
       "      <td>22</td>\n",
       "      <td>2051.4</td>\n",
       "      <td>0.238333</td>\n",
       "      <td>0.09548</td>\n",
       "      <td>90s</td>\n",
       "    </tr>\n",
       "    <tr>\n",
       "      <th>3</th>\n",
       "      <td>Coconut</td>\n",
       "      <td>Whole Year</td>\n",
       "      <td>Assam</td>\n",
       "      <td>19656.0</td>\n",
       "      <td>126905000</td>\n",
       "      <td>2051.4</td>\n",
       "      <td>5238.051739</td>\n",
       "      <td>0.09548</td>\n",
       "      <td>90s</td>\n",
       "    </tr>\n",
       "    <tr>\n",
       "      <th>4</th>\n",
       "      <td>Cotton(lint)</td>\n",
       "      <td>Kharif</td>\n",
       "      <td>Assam</td>\n",
       "      <td>1739.0</td>\n",
       "      <td>794</td>\n",
       "      <td>2051.4</td>\n",
       "      <td>0.420909</td>\n",
       "      <td>0.09548</td>\n",
       "      <td>90s</td>\n",
       "    </tr>\n",
       "  </tbody>\n",
       "</table>\n",
       "</div>"
      ],
      "text/plain": [
       "           Crop      Season  State     Area  Production  Annual_Rainfall  \\\n",
       "0      Arecanut  Whole Year  Assam  73814.0       56708           2051.4   \n",
       "1     Arhar/Tur      Kharif  Assam   6637.0        4685           2051.4   \n",
       "2   Castor seed      Kharif  Assam    796.0          22           2051.4   \n",
       "3      Coconut   Whole Year  Assam  19656.0   126905000           2051.4   \n",
       "4  Cotton(lint)      Kharif  Assam   1739.0         794           2051.4   \n",
       "\n",
       "         Yield  Input_Per_Unit_Area Year_Interval  \n",
       "0     0.796087              0.09548           90s  \n",
       "1     0.710435              0.09548           90s  \n",
       "2     0.238333              0.09548           90s  \n",
       "3  5238.051739              0.09548           90s  \n",
       "4     0.420909              0.09548           90s  "
      ]
     },
     "execution_count": 23,
     "metadata": {},
     "output_type": "execute_result"
    }
   ],
   "source": [
    "df.head(5)"
   ]
  },
  {
   "cell_type": "code",
   "execution_count": 24,
   "id": "6036234a",
   "metadata": {
    "papermill": {
     "duration": 0.020745,
     "end_time": "2024-08-26T18:43:06.410366",
     "exception": false,
     "start_time": "2024-08-26T18:43:06.389621",
     "status": "completed"
    },
    "tags": []
   },
   "outputs": [],
   "source": [
    "num_col = ['Area','Production','Annual_Rainfall','Input_Per_Unit_Area']\n",
    "ordinal_col = ['Season','Year_Interval']\n",
    "nominal_col = ['Crop','State']\n",
    "season_order = ['Winter','Summer','Autumn','Rabi','Kharif','Whole Year']\n",
    "year_order = ['90s','2000s','2010s']\n"
   ]
  },
  {
   "cell_type": "code",
   "execution_count": 25,
   "id": "02a4899c",
   "metadata": {
    "papermill": {
     "duration": 0.023666,
     "end_time": "2024-08-26T18:43:06.446915",
     "exception": false,
     "start_time": "2024-08-26T18:43:06.423249",
     "status": "completed"
    },
    "tags": []
   },
   "outputs": [
    {
     "data": {
      "text/plain": [
       "array(['Whole Year', 'Kharif', 'Rabi', 'Autumn', 'Summer', 'Winter'],\n",
       "      dtype=object)"
      ]
     },
     "execution_count": 25,
     "metadata": {},
     "output_type": "execute_result"
    }
   ],
   "source": [
    "df['Season'].unique()"
   ]
  },
  {
   "cell_type": "code",
   "execution_count": 73,
   "id": "acf87c53-4b01-421c-930d-6d23c67f9dd6",
   "metadata": {},
   "outputs": [
    {
     "data": {
      "text/plain": [
       "array(['Assam', 'Karnataka', 'Kerala', 'Meghalaya', 'West Bengal',\n",
       "       'Puducherry', 'Goa', 'Andhra Pradesh', 'Tamil Nadu', 'Odisha',\n",
       "       'Bihar', 'Gujarat', 'Madhya Pradesh', 'Maharashtra', 'Mizoram',\n",
       "       'Punjab', 'Uttar Pradesh', 'Haryana', 'Himachal Pradesh',\n",
       "       'Tripura', 'Nagaland', 'Chhattisgarh', 'Uttarakhand', 'Jharkhand',\n",
       "       'Delhi', 'Manipur', 'Jammu and Kashmir', 'Telangana',\n",
       "       'Arunachal Pradesh', 'Sikkim'], dtype=object)"
      ]
     },
     "execution_count": 73,
     "metadata": {},
     "output_type": "execute_result"
    }
   ],
   "source": [
    "df['State'].unique()"
   ]
  },
  {
   "cell_type": "code",
   "execution_count": 27,
   "id": "ffb8f71b",
   "metadata": {
    "papermill": {
     "duration": 1.068156,
     "end_time": "2024-08-26T18:43:07.527977",
     "exception": false,
     "start_time": "2024-08-26T18:43:06.459821",
     "status": "completed"
    },
    "tags": []
   },
   "outputs": [],
   "source": [
    "from sklearn.preprocessing import RobustScaler, PowerTransformer, OneHotEncoder, OrdinalEncoder, StandardScaler\n",
    "from sklearn.model_selection import train_test_split\n",
    "from sklearn.compose import ColumnTransformer\n",
    "from sklearn.pipeline import Pipeline"
   ]
  },
  {
   "cell_type": "code",
   "execution_count": 28,
   "id": "f4a8a929",
   "metadata": {
    "papermill": {
     "duration": 0.020922,
     "end_time": "2024-08-26T18:43:07.560400",
     "exception": false,
     "start_time": "2024-08-26T18:43:07.539478",
     "status": "completed"
    },
    "tags": []
   },
   "outputs": [],
   "source": [
    "X = df.drop(columns=['Yield'])\n",
    "y = df[['Yield']]"
   ]
  },
  {
   "cell_type": "code",
   "execution_count": 29,
   "id": "3b9930b6",
   "metadata": {
    "papermill": {
     "duration": 0.025418,
     "end_time": "2024-08-26T18:43:07.597035",
     "exception": false,
     "start_time": "2024-08-26T18:43:07.571617",
     "status": "completed"
    },
    "tags": []
   },
   "outputs": [],
   "source": [
    "X_train,X_test,y_train,y_test = train_test_split(X,y,test_size=0.2,random_state=42)"
   ]
  },
  {
   "cell_type": "markdown",
   "id": "d649ae0d",
   "metadata": {
    "papermill": {
     "duration": 0.01193,
     "end_time": "2024-08-26T18:43:07.620284",
     "exception": false,
     "start_time": "2024-08-26T18:43:07.608354",
     "status": "completed"
    },
    "tags": []
   },
   "source": [
    "## data encoding"
   ]
  },
  {
   "cell_type": "code",
   "execution_count": 31,
   "id": "6a4f02e9",
   "metadata": {
    "papermill": {
     "duration": 0.019829,
     "end_time": "2024-08-26T18:43:07.651447",
     "exception": false,
     "start_time": "2024-08-26T18:43:07.631618",
     "status": "completed"
    },
    "tags": []
   },
   "outputs": [],
   "source": [
    "preprocessor = ColumnTransformer(transformers=[\n",
    "    ('yeo_johnson_transform', PowerTransformer(method='yeo-johnson'), num_col),\n",
    "    ('robust_scaler', RobustScaler(),num_col),\n",
    "    ('Season_order', OrdinalEncoder(categories=[['Winter','Summer','Autumn','Rabi','Kharif','Whole Year']]), ['Season']),\n",
    "    ('Year_order',OrdinalEncoder(categories=[['90s','2000s','2010s']]), ['Year_Interval']),\n",
    "    ('OHE', OneHotEncoder(drop='first',handle_unknown='ignore'), nominal_col)\n",
    "], remainder='passthrough')"
   ]
  },
  {
   "cell_type": "markdown",
   "id": "378d7b60",
   "metadata": {
    "papermill": {
     "duration": 0.010672,
     "end_time": "2024-08-26T18:43:07.672985",
     "exception": false,
     "start_time": "2024-08-26T18:43:07.662313",
     "status": "completed"
    },
    "tags": []
   },
   "source": [
    "# Model training"
   ]
  },
  {
   "cell_type": "code",
   "execution_count": 33,
   "id": "8f4e3083",
   "metadata": {
    "papermill": {
     "duration": 0.274603,
     "end_time": "2024-08-26T18:43:07.958468",
     "exception": false,
     "start_time": "2024-08-26T18:43:07.683865",
     "status": "completed"
    },
    "tags": []
   },
   "outputs": [],
   "source": [
    "from sklearn.ensemble import RandomForestRegressor\n",
    "from sklearn.feature_selection import SelectKBest, f_regression"
   ]
  },
  {
   "cell_type": "code",
   "execution_count": 34,
   "id": "9756f5e3",
   "metadata": {
    "papermill": {
     "duration": 0.018147,
     "end_time": "2024-08-26T18:43:07.988135",
     "exception": false,
     "start_time": "2024-08-26T18:43:07.969988",
     "status": "completed"
    },
    "tags": []
   },
   "outputs": [],
   "source": [
    "# Feature selection using KBest method to reduce curse of dimensionality\n",
    "kbest = SelectKBest(score_func=f_regression, k=40)"
   ]
  },
  {
   "cell_type": "code",
   "execution_count": 35,
   "id": "6bf2852b",
   "metadata": {
    "papermill": {
     "duration": 0.018956,
     "end_time": "2024-08-26T18:43:08.018181",
     "exception": false,
     "start_time": "2024-08-26T18:43:07.999225",
     "status": "completed"
    },
    "tags": []
   },
   "outputs": [],
   "source": [
    "# After hyperparameter tuning best parameters are selected to reduce runtime and increse performance of model\n",
    "rf = RandomForestRegressor(max_features=0.75, max_samples=0.75, n_estimators=400, n_jobs=-1)"
   ]
  },
  {
   "cell_type": "code",
   "execution_count": 36,
   "id": "7dfa8c9a",
   "metadata": {
    "papermill": {
     "duration": 0.018812,
     "end_time": "2024-08-26T18:43:08.048175",
     "exception": false,
     "start_time": "2024-08-26T18:43:08.029363",
     "status": "completed"
    },
    "tags": []
   },
   "outputs": [],
   "source": [
    "pipe = Pipeline(steps=[\n",
    "    ('preprocessor', preprocessor),\n",
    "    ('kbest', kbest),\n",
    "    ('RF_regressor', rf)\n",
    "])"
   ]
  },
  {
   "cell_type": "code",
   "execution_count": 37,
   "id": "89d741be",
   "metadata": {
    "papermill": {
     "duration": 69.216393,
     "end_time": "2024-08-26T18:44:17.275694",
     "exception": false,
     "start_time": "2024-08-26T18:43:08.059301",
     "status": "completed"
    },
    "tags": []
   },
   "outputs": [
    {
     "data": {
      "text/html": [
       "<style>#sk-container-id-1 {\n",
       "  /* Definition of color scheme common for light and dark mode */\n",
       "  --sklearn-color-text: black;\n",
       "  --sklearn-color-line: gray;\n",
       "  /* Definition of color scheme for unfitted estimators */\n",
       "  --sklearn-color-unfitted-level-0: #fff5e6;\n",
       "  --sklearn-color-unfitted-level-1: #f6e4d2;\n",
       "  --sklearn-color-unfitted-level-2: #ffe0b3;\n",
       "  --sklearn-color-unfitted-level-3: chocolate;\n",
       "  /* Definition of color scheme for fitted estimators */\n",
       "  --sklearn-color-fitted-level-0: #f0f8ff;\n",
       "  --sklearn-color-fitted-level-1: #d4ebff;\n",
       "  --sklearn-color-fitted-level-2: #b3dbfd;\n",
       "  --sklearn-color-fitted-level-3: cornflowerblue;\n",
       "\n",
       "  /* Specific color for light theme */\n",
       "  --sklearn-color-text-on-default-background: var(--sg-text-color, var(--theme-code-foreground, var(--jp-content-font-color1, black)));\n",
       "  --sklearn-color-background: var(--sg-background-color, var(--theme-background, var(--jp-layout-color0, white)));\n",
       "  --sklearn-color-border-box: var(--sg-text-color, var(--theme-code-foreground, var(--jp-content-font-color1, black)));\n",
       "  --sklearn-color-icon: #696969;\n",
       "\n",
       "  @media (prefers-color-scheme: dark) {\n",
       "    /* Redefinition of color scheme for dark theme */\n",
       "    --sklearn-color-text-on-default-background: var(--sg-text-color, var(--theme-code-foreground, var(--jp-content-font-color1, white)));\n",
       "    --sklearn-color-background: var(--sg-background-color, var(--theme-background, var(--jp-layout-color0, #111)));\n",
       "    --sklearn-color-border-box: var(--sg-text-color, var(--theme-code-foreground, var(--jp-content-font-color1, white)));\n",
       "    --sklearn-color-icon: #878787;\n",
       "  }\n",
       "}\n",
       "\n",
       "#sk-container-id-1 {\n",
       "  color: var(--sklearn-color-text);\n",
       "}\n",
       "\n",
       "#sk-container-id-1 pre {\n",
       "  padding: 0;\n",
       "}\n",
       "\n",
       "#sk-container-id-1 input.sk-hidden--visually {\n",
       "  border: 0;\n",
       "  clip: rect(1px 1px 1px 1px);\n",
       "  clip: rect(1px, 1px, 1px, 1px);\n",
       "  height: 1px;\n",
       "  margin: -1px;\n",
       "  overflow: hidden;\n",
       "  padding: 0;\n",
       "  position: absolute;\n",
       "  width: 1px;\n",
       "}\n",
       "\n",
       "#sk-container-id-1 div.sk-dashed-wrapped {\n",
       "  border: 1px dashed var(--sklearn-color-line);\n",
       "  margin: 0 0.4em 0.5em 0.4em;\n",
       "  box-sizing: border-box;\n",
       "  padding-bottom: 0.4em;\n",
       "  background-color: var(--sklearn-color-background);\n",
       "}\n",
       "\n",
       "#sk-container-id-1 div.sk-container {\n",
       "  /* jupyter's `normalize.less` sets `[hidden] { display: none; }`\n",
       "     but bootstrap.min.css set `[hidden] { display: none !important; }`\n",
       "     so we also need the `!important` here to be able to override the\n",
       "     default hidden behavior on the sphinx rendered scikit-learn.org.\n",
       "     See: https://github.com/scikit-learn/scikit-learn/issues/21755 */\n",
       "  display: inline-block !important;\n",
       "  position: relative;\n",
       "}\n",
       "\n",
       "#sk-container-id-1 div.sk-text-repr-fallback {\n",
       "  display: none;\n",
       "}\n",
       "\n",
       "div.sk-parallel-item,\n",
       "div.sk-serial,\n",
       "div.sk-item {\n",
       "  /* draw centered vertical line to link estimators */\n",
       "  background-image: linear-gradient(var(--sklearn-color-text-on-default-background), var(--sklearn-color-text-on-default-background));\n",
       "  background-size: 2px 100%;\n",
       "  background-repeat: no-repeat;\n",
       "  background-position: center center;\n",
       "}\n",
       "\n",
       "/* Parallel-specific style estimator block */\n",
       "\n",
       "#sk-container-id-1 div.sk-parallel-item::after {\n",
       "  content: \"\";\n",
       "  width: 100%;\n",
       "  border-bottom: 2px solid var(--sklearn-color-text-on-default-background);\n",
       "  flex-grow: 1;\n",
       "}\n",
       "\n",
       "#sk-container-id-1 div.sk-parallel {\n",
       "  display: flex;\n",
       "  align-items: stretch;\n",
       "  justify-content: center;\n",
       "  background-color: var(--sklearn-color-background);\n",
       "  position: relative;\n",
       "}\n",
       "\n",
       "#sk-container-id-1 div.sk-parallel-item {\n",
       "  display: flex;\n",
       "  flex-direction: column;\n",
       "}\n",
       "\n",
       "#sk-container-id-1 div.sk-parallel-item:first-child::after {\n",
       "  align-self: flex-end;\n",
       "  width: 50%;\n",
       "}\n",
       "\n",
       "#sk-container-id-1 div.sk-parallel-item:last-child::after {\n",
       "  align-self: flex-start;\n",
       "  width: 50%;\n",
       "}\n",
       "\n",
       "#sk-container-id-1 div.sk-parallel-item:only-child::after {\n",
       "  width: 0;\n",
       "}\n",
       "\n",
       "/* Serial-specific style estimator block */\n",
       "\n",
       "#sk-container-id-1 div.sk-serial {\n",
       "  display: flex;\n",
       "  flex-direction: column;\n",
       "  align-items: center;\n",
       "  background-color: var(--sklearn-color-background);\n",
       "  padding-right: 1em;\n",
       "  padding-left: 1em;\n",
       "}\n",
       "\n",
       "\n",
       "/* Toggleable style: style used for estimator/Pipeline/ColumnTransformer box that is\n",
       "clickable and can be expanded/collapsed.\n",
       "- Pipeline and ColumnTransformer use this feature and define the default style\n",
       "- Estimators will overwrite some part of the style using the `sk-estimator` class\n",
       "*/\n",
       "\n",
       "/* Pipeline and ColumnTransformer style (default) */\n",
       "\n",
       "#sk-container-id-1 div.sk-toggleable {\n",
       "  /* Default theme specific background. It is overwritten whether we have a\n",
       "  specific estimator or a Pipeline/ColumnTransformer */\n",
       "  background-color: var(--sklearn-color-background);\n",
       "}\n",
       "\n",
       "/* Toggleable label */\n",
       "#sk-container-id-1 label.sk-toggleable__label {\n",
       "  cursor: pointer;\n",
       "  display: block;\n",
       "  width: 100%;\n",
       "  margin-bottom: 0;\n",
       "  padding: 0.5em;\n",
       "  box-sizing: border-box;\n",
       "  text-align: center;\n",
       "}\n",
       "\n",
       "#sk-container-id-1 label.sk-toggleable__label-arrow:before {\n",
       "  /* Arrow on the left of the label */\n",
       "  content: \"▸\";\n",
       "  float: left;\n",
       "  margin-right: 0.25em;\n",
       "  color: var(--sklearn-color-icon);\n",
       "}\n",
       "\n",
       "#sk-container-id-1 label.sk-toggleable__label-arrow:hover:before {\n",
       "  color: var(--sklearn-color-text);\n",
       "}\n",
       "\n",
       "/* Toggleable content - dropdown */\n",
       "\n",
       "#sk-container-id-1 div.sk-toggleable__content {\n",
       "  max-height: 0;\n",
       "  max-width: 0;\n",
       "  overflow: hidden;\n",
       "  text-align: left;\n",
       "  /* unfitted */\n",
       "  background-color: var(--sklearn-color-unfitted-level-0);\n",
       "}\n",
       "\n",
       "#sk-container-id-1 div.sk-toggleable__content.fitted {\n",
       "  /* fitted */\n",
       "  background-color: var(--sklearn-color-fitted-level-0);\n",
       "}\n",
       "\n",
       "#sk-container-id-1 div.sk-toggleable__content pre {\n",
       "  margin: 0.2em;\n",
       "  border-radius: 0.25em;\n",
       "  color: var(--sklearn-color-text);\n",
       "  /* unfitted */\n",
       "  background-color: var(--sklearn-color-unfitted-level-0);\n",
       "}\n",
       "\n",
       "#sk-container-id-1 div.sk-toggleable__content.fitted pre {\n",
       "  /* unfitted */\n",
       "  background-color: var(--sklearn-color-fitted-level-0);\n",
       "}\n",
       "\n",
       "#sk-container-id-1 input.sk-toggleable__control:checked~div.sk-toggleable__content {\n",
       "  /* Expand drop-down */\n",
       "  max-height: 200px;\n",
       "  max-width: 100%;\n",
       "  overflow: auto;\n",
       "}\n",
       "\n",
       "#sk-container-id-1 input.sk-toggleable__control:checked~label.sk-toggleable__label-arrow:before {\n",
       "  content: \"▾\";\n",
       "}\n",
       "\n",
       "/* Pipeline/ColumnTransformer-specific style */\n",
       "\n",
       "#sk-container-id-1 div.sk-label input.sk-toggleable__control:checked~label.sk-toggleable__label {\n",
       "  color: var(--sklearn-color-text);\n",
       "  background-color: var(--sklearn-color-unfitted-level-2);\n",
       "}\n",
       "\n",
       "#sk-container-id-1 div.sk-label.fitted input.sk-toggleable__control:checked~label.sk-toggleable__label {\n",
       "  background-color: var(--sklearn-color-fitted-level-2);\n",
       "}\n",
       "\n",
       "/* Estimator-specific style */\n",
       "\n",
       "/* Colorize estimator box */\n",
       "#sk-container-id-1 div.sk-estimator input.sk-toggleable__control:checked~label.sk-toggleable__label {\n",
       "  /* unfitted */\n",
       "  background-color: var(--sklearn-color-unfitted-level-2);\n",
       "}\n",
       "\n",
       "#sk-container-id-1 div.sk-estimator.fitted input.sk-toggleable__control:checked~label.sk-toggleable__label {\n",
       "  /* fitted */\n",
       "  background-color: var(--sklearn-color-fitted-level-2);\n",
       "}\n",
       "\n",
       "#sk-container-id-1 div.sk-label label.sk-toggleable__label,\n",
       "#sk-container-id-1 div.sk-label label {\n",
       "  /* The background is the default theme color */\n",
       "  color: var(--sklearn-color-text-on-default-background);\n",
       "}\n",
       "\n",
       "/* On hover, darken the color of the background */\n",
       "#sk-container-id-1 div.sk-label:hover label.sk-toggleable__label {\n",
       "  color: var(--sklearn-color-text);\n",
       "  background-color: var(--sklearn-color-unfitted-level-2);\n",
       "}\n",
       "\n",
       "/* Label box, darken color on hover, fitted */\n",
       "#sk-container-id-1 div.sk-label.fitted:hover label.sk-toggleable__label.fitted {\n",
       "  color: var(--sklearn-color-text);\n",
       "  background-color: var(--sklearn-color-fitted-level-2);\n",
       "}\n",
       "\n",
       "/* Estimator label */\n",
       "\n",
       "#sk-container-id-1 div.sk-label label {\n",
       "  font-family: monospace;\n",
       "  font-weight: bold;\n",
       "  display: inline-block;\n",
       "  line-height: 1.2em;\n",
       "}\n",
       "\n",
       "#sk-container-id-1 div.sk-label-container {\n",
       "  text-align: center;\n",
       "}\n",
       "\n",
       "/* Estimator-specific */\n",
       "#sk-container-id-1 div.sk-estimator {\n",
       "  font-family: monospace;\n",
       "  border: 1px dotted var(--sklearn-color-border-box);\n",
       "  border-radius: 0.25em;\n",
       "  box-sizing: border-box;\n",
       "  margin-bottom: 0.5em;\n",
       "  /* unfitted */\n",
       "  background-color: var(--sklearn-color-unfitted-level-0);\n",
       "}\n",
       "\n",
       "#sk-container-id-1 div.sk-estimator.fitted {\n",
       "  /* fitted */\n",
       "  background-color: var(--sklearn-color-fitted-level-0);\n",
       "}\n",
       "\n",
       "/* on hover */\n",
       "#sk-container-id-1 div.sk-estimator:hover {\n",
       "  /* unfitted */\n",
       "  background-color: var(--sklearn-color-unfitted-level-2);\n",
       "}\n",
       "\n",
       "#sk-container-id-1 div.sk-estimator.fitted:hover {\n",
       "  /* fitted */\n",
       "  background-color: var(--sklearn-color-fitted-level-2);\n",
       "}\n",
       "\n",
       "/* Specification for estimator info (e.g. \"i\" and \"?\") */\n",
       "\n",
       "/* Common style for \"i\" and \"?\" */\n",
       "\n",
       ".sk-estimator-doc-link,\n",
       "a:link.sk-estimator-doc-link,\n",
       "a:visited.sk-estimator-doc-link {\n",
       "  float: right;\n",
       "  font-size: smaller;\n",
       "  line-height: 1em;\n",
       "  font-family: monospace;\n",
       "  background-color: var(--sklearn-color-background);\n",
       "  border-radius: 1em;\n",
       "  height: 1em;\n",
       "  width: 1em;\n",
       "  text-decoration: none !important;\n",
       "  margin-left: 1ex;\n",
       "  /* unfitted */\n",
       "  border: var(--sklearn-color-unfitted-level-1) 1pt solid;\n",
       "  color: var(--sklearn-color-unfitted-level-1);\n",
       "}\n",
       "\n",
       ".sk-estimator-doc-link.fitted,\n",
       "a:link.sk-estimator-doc-link.fitted,\n",
       "a:visited.sk-estimator-doc-link.fitted {\n",
       "  /* fitted */\n",
       "  border: var(--sklearn-color-fitted-level-1) 1pt solid;\n",
       "  color: var(--sklearn-color-fitted-level-1);\n",
       "}\n",
       "\n",
       "/* On hover */\n",
       "div.sk-estimator:hover .sk-estimator-doc-link:hover,\n",
       ".sk-estimator-doc-link:hover,\n",
       "div.sk-label-container:hover .sk-estimator-doc-link:hover,\n",
       ".sk-estimator-doc-link:hover {\n",
       "  /* unfitted */\n",
       "  background-color: var(--sklearn-color-unfitted-level-3);\n",
       "  color: var(--sklearn-color-background);\n",
       "  text-decoration: none;\n",
       "}\n",
       "\n",
       "div.sk-estimator.fitted:hover .sk-estimator-doc-link.fitted:hover,\n",
       ".sk-estimator-doc-link.fitted:hover,\n",
       "div.sk-label-container:hover .sk-estimator-doc-link.fitted:hover,\n",
       ".sk-estimator-doc-link.fitted:hover {\n",
       "  /* fitted */\n",
       "  background-color: var(--sklearn-color-fitted-level-3);\n",
       "  color: var(--sklearn-color-background);\n",
       "  text-decoration: none;\n",
       "}\n",
       "\n",
       "/* Span, style for the box shown on hovering the info icon */\n",
       ".sk-estimator-doc-link span {\n",
       "  display: none;\n",
       "  z-index: 9999;\n",
       "  position: relative;\n",
       "  font-weight: normal;\n",
       "  right: .2ex;\n",
       "  padding: .5ex;\n",
       "  margin: .5ex;\n",
       "  width: min-content;\n",
       "  min-width: 20ex;\n",
       "  max-width: 50ex;\n",
       "  color: var(--sklearn-color-text);\n",
       "  box-shadow: 2pt 2pt 4pt #999;\n",
       "  /* unfitted */\n",
       "  background: var(--sklearn-color-unfitted-level-0);\n",
       "  border: .5pt solid var(--sklearn-color-unfitted-level-3);\n",
       "}\n",
       "\n",
       ".sk-estimator-doc-link.fitted span {\n",
       "  /* fitted */\n",
       "  background: var(--sklearn-color-fitted-level-0);\n",
       "  border: var(--sklearn-color-fitted-level-3);\n",
       "}\n",
       "\n",
       ".sk-estimator-doc-link:hover span {\n",
       "  display: block;\n",
       "}\n",
       "\n",
       "/* \"?\"-specific style due to the `<a>` HTML tag */\n",
       "\n",
       "#sk-container-id-1 a.estimator_doc_link {\n",
       "  float: right;\n",
       "  font-size: 1rem;\n",
       "  line-height: 1em;\n",
       "  font-family: monospace;\n",
       "  background-color: var(--sklearn-color-background);\n",
       "  border-radius: 1rem;\n",
       "  height: 1rem;\n",
       "  width: 1rem;\n",
       "  text-decoration: none;\n",
       "  /* unfitted */\n",
       "  color: var(--sklearn-color-unfitted-level-1);\n",
       "  border: var(--sklearn-color-unfitted-level-1) 1pt solid;\n",
       "}\n",
       "\n",
       "#sk-container-id-1 a.estimator_doc_link.fitted {\n",
       "  /* fitted */\n",
       "  border: var(--sklearn-color-fitted-level-1) 1pt solid;\n",
       "  color: var(--sklearn-color-fitted-level-1);\n",
       "}\n",
       "\n",
       "/* On hover */\n",
       "#sk-container-id-1 a.estimator_doc_link:hover {\n",
       "  /* unfitted */\n",
       "  background-color: var(--sklearn-color-unfitted-level-3);\n",
       "  color: var(--sklearn-color-background);\n",
       "  text-decoration: none;\n",
       "}\n",
       "\n",
       "#sk-container-id-1 a.estimator_doc_link.fitted:hover {\n",
       "  /* fitted */\n",
       "  background-color: var(--sklearn-color-fitted-level-3);\n",
       "}\n",
       "</style><div id=\"sk-container-id-1\" class=\"sk-top-container\"><div class=\"sk-text-repr-fallback\"><pre>Pipeline(steps=[(&#x27;preprocessor&#x27;,\n",
       "                 ColumnTransformer(remainder=&#x27;passthrough&#x27;,\n",
       "                                   transformers=[(&#x27;yeo_johnson_transform&#x27;,\n",
       "                                                  PowerTransformer(),\n",
       "                                                  [&#x27;Area&#x27;, &#x27;Production&#x27;,\n",
       "                                                   &#x27;Annual_Rainfall&#x27;,\n",
       "                                                   &#x27;Input_Per_Unit_Area&#x27;]),\n",
       "                                                 (&#x27;robust_scaler&#x27;,\n",
       "                                                  RobustScaler(),\n",
       "                                                  [&#x27;Area&#x27;, &#x27;Production&#x27;,\n",
       "                                                   &#x27;Annual_Rainfall&#x27;,\n",
       "                                                   &#x27;Input_Per_Unit_Area&#x27;]),\n",
       "                                                 (&#x27;Season_order&#x27;,\n",
       "                                                  OrdinalEncoder(categories=[[&#x27;Winter&#x27;,\n",
       "                                                                              &#x27;Summer...\n",
       "                                                 (&#x27;Year_order&#x27;,\n",
       "                                                  OrdinalEncoder(categories=[[&#x27;90s&#x27;,\n",
       "                                                                              &#x27;2000s&#x27;,\n",
       "                                                                              &#x27;2010s&#x27;]]),\n",
       "                                                  [&#x27;Year_Interval&#x27;]),\n",
       "                                                 (&#x27;OHE&#x27;,\n",
       "                                                  OneHotEncoder(drop=&#x27;first&#x27;,\n",
       "                                                                handle_unknown=&#x27;ignore&#x27;),\n",
       "                                                  [&#x27;Crop&#x27;, &#x27;State&#x27;])])),\n",
       "                (&#x27;kbest&#x27;,\n",
       "                 SelectKBest(k=40,\n",
       "                             score_func=&lt;function f_regression at 0x00000205F279C720&gt;)),\n",
       "                (&#x27;RF_regressor&#x27;,\n",
       "                 RandomForestRegressor(max_features=0.75, max_samples=0.75,\n",
       "                                       n_estimators=400, n_jobs=-1))])</pre><b>In a Jupyter environment, please rerun this cell to show the HTML representation or trust the notebook. <br />On GitHub, the HTML representation is unable to render, please try loading this page with nbviewer.org.</b></div><div class=\"sk-container\" hidden><div class=\"sk-item sk-dashed-wrapped\"><div class=\"sk-label-container\"><div class=\"sk-label fitted sk-toggleable\"><input class=\"sk-toggleable__control sk-hidden--visually\" id=\"sk-estimator-id-1\" type=\"checkbox\" ><label for=\"sk-estimator-id-1\" class=\"sk-toggleable__label fitted sk-toggleable__label-arrow fitted\">&nbsp;&nbsp;Pipeline<a class=\"sk-estimator-doc-link fitted\" rel=\"noreferrer\" target=\"_blank\" href=\"https://scikit-learn.org/1.5/modules/generated/sklearn.pipeline.Pipeline.html\">?<span>Documentation for Pipeline</span></a><span class=\"sk-estimator-doc-link fitted\">i<span>Fitted</span></span></label><div class=\"sk-toggleable__content fitted\"><pre>Pipeline(steps=[(&#x27;preprocessor&#x27;,\n",
       "                 ColumnTransformer(remainder=&#x27;passthrough&#x27;,\n",
       "                                   transformers=[(&#x27;yeo_johnson_transform&#x27;,\n",
       "                                                  PowerTransformer(),\n",
       "                                                  [&#x27;Area&#x27;, &#x27;Production&#x27;,\n",
       "                                                   &#x27;Annual_Rainfall&#x27;,\n",
       "                                                   &#x27;Input_Per_Unit_Area&#x27;]),\n",
       "                                                 (&#x27;robust_scaler&#x27;,\n",
       "                                                  RobustScaler(),\n",
       "                                                  [&#x27;Area&#x27;, &#x27;Production&#x27;,\n",
       "                                                   &#x27;Annual_Rainfall&#x27;,\n",
       "                                                   &#x27;Input_Per_Unit_Area&#x27;]),\n",
       "                                                 (&#x27;Season_order&#x27;,\n",
       "                                                  OrdinalEncoder(categories=[[&#x27;Winter&#x27;,\n",
       "                                                                              &#x27;Summer...\n",
       "                                                 (&#x27;Year_order&#x27;,\n",
       "                                                  OrdinalEncoder(categories=[[&#x27;90s&#x27;,\n",
       "                                                                              &#x27;2000s&#x27;,\n",
       "                                                                              &#x27;2010s&#x27;]]),\n",
       "                                                  [&#x27;Year_Interval&#x27;]),\n",
       "                                                 (&#x27;OHE&#x27;,\n",
       "                                                  OneHotEncoder(drop=&#x27;first&#x27;,\n",
       "                                                                handle_unknown=&#x27;ignore&#x27;),\n",
       "                                                  [&#x27;Crop&#x27;, &#x27;State&#x27;])])),\n",
       "                (&#x27;kbest&#x27;,\n",
       "                 SelectKBest(k=40,\n",
       "                             score_func=&lt;function f_regression at 0x00000205F279C720&gt;)),\n",
       "                (&#x27;RF_regressor&#x27;,\n",
       "                 RandomForestRegressor(max_features=0.75, max_samples=0.75,\n",
       "                                       n_estimators=400, n_jobs=-1))])</pre></div> </div></div><div class=\"sk-serial\"><div class=\"sk-item sk-dashed-wrapped\"><div class=\"sk-label-container\"><div class=\"sk-label fitted sk-toggleable\"><input class=\"sk-toggleable__control sk-hidden--visually\" id=\"sk-estimator-id-2\" type=\"checkbox\" ><label for=\"sk-estimator-id-2\" class=\"sk-toggleable__label fitted sk-toggleable__label-arrow fitted\">&nbsp;preprocessor: ColumnTransformer<a class=\"sk-estimator-doc-link fitted\" rel=\"noreferrer\" target=\"_blank\" href=\"https://scikit-learn.org/1.5/modules/generated/sklearn.compose.ColumnTransformer.html\">?<span>Documentation for preprocessor: ColumnTransformer</span></a></label><div class=\"sk-toggleable__content fitted\"><pre>ColumnTransformer(remainder=&#x27;passthrough&#x27;,\n",
       "                  transformers=[(&#x27;yeo_johnson_transform&#x27;, PowerTransformer(),\n",
       "                                 [&#x27;Area&#x27;, &#x27;Production&#x27;, &#x27;Annual_Rainfall&#x27;,\n",
       "                                  &#x27;Input_Per_Unit_Area&#x27;]),\n",
       "                                (&#x27;robust_scaler&#x27;, RobustScaler(),\n",
       "                                 [&#x27;Area&#x27;, &#x27;Production&#x27;, &#x27;Annual_Rainfall&#x27;,\n",
       "                                  &#x27;Input_Per_Unit_Area&#x27;]),\n",
       "                                (&#x27;Season_order&#x27;,\n",
       "                                 OrdinalEncoder(categories=[[&#x27;Winter&#x27;, &#x27;Summer&#x27;,\n",
       "                                                             &#x27;Autumn&#x27;, &#x27;Rabi&#x27;,\n",
       "                                                             &#x27;Kharif&#x27;,\n",
       "                                                             &#x27;Whole Year&#x27;]]),\n",
       "                                 [&#x27;Season&#x27;]),\n",
       "                                (&#x27;Year_order&#x27;,\n",
       "                                 OrdinalEncoder(categories=[[&#x27;90s&#x27;, &#x27;2000s&#x27;,\n",
       "                                                             &#x27;2010s&#x27;]]),\n",
       "                                 [&#x27;Year_Interval&#x27;]),\n",
       "                                (&#x27;OHE&#x27;,\n",
       "                                 OneHotEncoder(drop=&#x27;first&#x27;,\n",
       "                                               handle_unknown=&#x27;ignore&#x27;),\n",
       "                                 [&#x27;Crop&#x27;, &#x27;State&#x27;])])</pre></div> </div></div><div class=\"sk-parallel\"><div class=\"sk-parallel-item\"><div class=\"sk-item\"><div class=\"sk-label-container\"><div class=\"sk-label fitted sk-toggleable\"><input class=\"sk-toggleable__control sk-hidden--visually\" id=\"sk-estimator-id-3\" type=\"checkbox\" ><label for=\"sk-estimator-id-3\" class=\"sk-toggleable__label fitted sk-toggleable__label-arrow fitted\">yeo_johnson_transform</label><div class=\"sk-toggleable__content fitted\"><pre>[&#x27;Area&#x27;, &#x27;Production&#x27;, &#x27;Annual_Rainfall&#x27;, &#x27;Input_Per_Unit_Area&#x27;]</pre></div> </div></div><div class=\"sk-serial\"><div class=\"sk-item\"><div class=\"sk-estimator fitted sk-toggleable\"><input class=\"sk-toggleable__control sk-hidden--visually\" id=\"sk-estimator-id-4\" type=\"checkbox\" ><label for=\"sk-estimator-id-4\" class=\"sk-toggleable__label fitted sk-toggleable__label-arrow fitted\">&nbsp;PowerTransformer<a class=\"sk-estimator-doc-link fitted\" rel=\"noreferrer\" target=\"_blank\" href=\"https://scikit-learn.org/1.5/modules/generated/sklearn.preprocessing.PowerTransformer.html\">?<span>Documentation for PowerTransformer</span></a></label><div class=\"sk-toggleable__content fitted\"><pre>PowerTransformer()</pre></div> </div></div></div></div></div><div class=\"sk-parallel-item\"><div class=\"sk-item\"><div class=\"sk-label-container\"><div class=\"sk-label fitted sk-toggleable\"><input class=\"sk-toggleable__control sk-hidden--visually\" id=\"sk-estimator-id-5\" type=\"checkbox\" ><label for=\"sk-estimator-id-5\" class=\"sk-toggleable__label fitted sk-toggleable__label-arrow fitted\">robust_scaler</label><div class=\"sk-toggleable__content fitted\"><pre>[&#x27;Area&#x27;, &#x27;Production&#x27;, &#x27;Annual_Rainfall&#x27;, &#x27;Input_Per_Unit_Area&#x27;]</pre></div> </div></div><div class=\"sk-serial\"><div class=\"sk-item\"><div class=\"sk-estimator fitted sk-toggleable\"><input class=\"sk-toggleable__control sk-hidden--visually\" id=\"sk-estimator-id-6\" type=\"checkbox\" ><label for=\"sk-estimator-id-6\" class=\"sk-toggleable__label fitted sk-toggleable__label-arrow fitted\">&nbsp;RobustScaler<a class=\"sk-estimator-doc-link fitted\" rel=\"noreferrer\" target=\"_blank\" href=\"https://scikit-learn.org/1.5/modules/generated/sklearn.preprocessing.RobustScaler.html\">?<span>Documentation for RobustScaler</span></a></label><div class=\"sk-toggleable__content fitted\"><pre>RobustScaler()</pre></div> </div></div></div></div></div><div class=\"sk-parallel-item\"><div class=\"sk-item\"><div class=\"sk-label-container\"><div class=\"sk-label fitted sk-toggleable\"><input class=\"sk-toggleable__control sk-hidden--visually\" id=\"sk-estimator-id-7\" type=\"checkbox\" ><label for=\"sk-estimator-id-7\" class=\"sk-toggleable__label fitted sk-toggleable__label-arrow fitted\">Season_order</label><div class=\"sk-toggleable__content fitted\"><pre>[&#x27;Season&#x27;]</pre></div> </div></div><div class=\"sk-serial\"><div class=\"sk-item\"><div class=\"sk-estimator fitted sk-toggleable\"><input class=\"sk-toggleable__control sk-hidden--visually\" id=\"sk-estimator-id-8\" type=\"checkbox\" ><label for=\"sk-estimator-id-8\" class=\"sk-toggleable__label fitted sk-toggleable__label-arrow fitted\">&nbsp;OrdinalEncoder<a class=\"sk-estimator-doc-link fitted\" rel=\"noreferrer\" target=\"_blank\" href=\"https://scikit-learn.org/1.5/modules/generated/sklearn.preprocessing.OrdinalEncoder.html\">?<span>Documentation for OrdinalEncoder</span></a></label><div class=\"sk-toggleable__content fitted\"><pre>OrdinalEncoder(categories=[[&#x27;Winter&#x27;, &#x27;Summer&#x27;, &#x27;Autumn&#x27;, &#x27;Rabi&#x27;, &#x27;Kharif&#x27;,\n",
       "                            &#x27;Whole Year&#x27;]])</pre></div> </div></div></div></div></div><div class=\"sk-parallel-item\"><div class=\"sk-item\"><div class=\"sk-label-container\"><div class=\"sk-label fitted sk-toggleable\"><input class=\"sk-toggleable__control sk-hidden--visually\" id=\"sk-estimator-id-9\" type=\"checkbox\" ><label for=\"sk-estimator-id-9\" class=\"sk-toggleable__label fitted sk-toggleable__label-arrow fitted\">Year_order</label><div class=\"sk-toggleable__content fitted\"><pre>[&#x27;Year_Interval&#x27;]</pre></div> </div></div><div class=\"sk-serial\"><div class=\"sk-item\"><div class=\"sk-estimator fitted sk-toggleable\"><input class=\"sk-toggleable__control sk-hidden--visually\" id=\"sk-estimator-id-10\" type=\"checkbox\" ><label for=\"sk-estimator-id-10\" class=\"sk-toggleable__label fitted sk-toggleable__label-arrow fitted\">&nbsp;OrdinalEncoder<a class=\"sk-estimator-doc-link fitted\" rel=\"noreferrer\" target=\"_blank\" href=\"https://scikit-learn.org/1.5/modules/generated/sklearn.preprocessing.OrdinalEncoder.html\">?<span>Documentation for OrdinalEncoder</span></a></label><div class=\"sk-toggleable__content fitted\"><pre>OrdinalEncoder(categories=[[&#x27;90s&#x27;, &#x27;2000s&#x27;, &#x27;2010s&#x27;]])</pre></div> </div></div></div></div></div><div class=\"sk-parallel-item\"><div class=\"sk-item\"><div class=\"sk-label-container\"><div class=\"sk-label fitted sk-toggleable\"><input class=\"sk-toggleable__control sk-hidden--visually\" id=\"sk-estimator-id-11\" type=\"checkbox\" ><label for=\"sk-estimator-id-11\" class=\"sk-toggleable__label fitted sk-toggleable__label-arrow fitted\">OHE</label><div class=\"sk-toggleable__content fitted\"><pre>[&#x27;Crop&#x27;, &#x27;State&#x27;]</pre></div> </div></div><div class=\"sk-serial\"><div class=\"sk-item\"><div class=\"sk-estimator fitted sk-toggleable\"><input class=\"sk-toggleable__control sk-hidden--visually\" id=\"sk-estimator-id-12\" type=\"checkbox\" ><label for=\"sk-estimator-id-12\" class=\"sk-toggleable__label fitted sk-toggleable__label-arrow fitted\">&nbsp;OneHotEncoder<a class=\"sk-estimator-doc-link fitted\" rel=\"noreferrer\" target=\"_blank\" href=\"https://scikit-learn.org/1.5/modules/generated/sklearn.preprocessing.OneHotEncoder.html\">?<span>Documentation for OneHotEncoder</span></a></label><div class=\"sk-toggleable__content fitted\"><pre>OneHotEncoder(drop=&#x27;first&#x27;, handle_unknown=&#x27;ignore&#x27;)</pre></div> </div></div></div></div></div><div class=\"sk-parallel-item\"><div class=\"sk-item\"><div class=\"sk-label-container\"><div class=\"sk-label fitted sk-toggleable\"><input class=\"sk-toggleable__control sk-hidden--visually\" id=\"sk-estimator-id-13\" type=\"checkbox\" ><label for=\"sk-estimator-id-13\" class=\"sk-toggleable__label fitted sk-toggleable__label-arrow fitted\">remainder</label><div class=\"sk-toggleable__content fitted\"><pre>[]</pre></div> </div></div><div class=\"sk-serial\"><div class=\"sk-item\"><div class=\"sk-estimator fitted sk-toggleable\"><input class=\"sk-toggleable__control sk-hidden--visually\" id=\"sk-estimator-id-14\" type=\"checkbox\" ><label for=\"sk-estimator-id-14\" class=\"sk-toggleable__label fitted sk-toggleable__label-arrow fitted\">passthrough</label><div class=\"sk-toggleable__content fitted\"><pre>passthrough</pre></div> </div></div></div></div></div></div></div><div class=\"sk-item\"><div class=\"sk-estimator fitted sk-toggleable\"><input class=\"sk-toggleable__control sk-hidden--visually\" id=\"sk-estimator-id-15\" type=\"checkbox\" ><label for=\"sk-estimator-id-15\" class=\"sk-toggleable__label fitted sk-toggleable__label-arrow fitted\">&nbsp;SelectKBest<a class=\"sk-estimator-doc-link fitted\" rel=\"noreferrer\" target=\"_blank\" href=\"https://scikit-learn.org/1.5/modules/generated/sklearn.feature_selection.SelectKBest.html\">?<span>Documentation for SelectKBest</span></a></label><div class=\"sk-toggleable__content fitted\"><pre>SelectKBest(k=40, score_func=&lt;function f_regression at 0x00000205F279C720&gt;)</pre></div> </div></div><div class=\"sk-item\"><div class=\"sk-estimator fitted sk-toggleable\"><input class=\"sk-toggleable__control sk-hidden--visually\" id=\"sk-estimator-id-16\" type=\"checkbox\" ><label for=\"sk-estimator-id-16\" class=\"sk-toggleable__label fitted sk-toggleable__label-arrow fitted\">&nbsp;RandomForestRegressor<a class=\"sk-estimator-doc-link fitted\" rel=\"noreferrer\" target=\"_blank\" href=\"https://scikit-learn.org/1.5/modules/generated/sklearn.ensemble.RandomForestRegressor.html\">?<span>Documentation for RandomForestRegressor</span></a></label><div class=\"sk-toggleable__content fitted\"><pre>RandomForestRegressor(max_features=0.75, max_samples=0.75, n_estimators=400,\n",
       "                      n_jobs=-1)</pre></div> </div></div></div></div></div></div>"
      ],
      "text/plain": [
       "Pipeline(steps=[('preprocessor',\n",
       "                 ColumnTransformer(remainder='passthrough',\n",
       "                                   transformers=[('yeo_johnson_transform',\n",
       "                                                  PowerTransformer(),\n",
       "                                                  ['Area', 'Production',\n",
       "                                                   'Annual_Rainfall',\n",
       "                                                   'Input_Per_Unit_Area']),\n",
       "                                                 ('robust_scaler',\n",
       "                                                  RobustScaler(),\n",
       "                                                  ['Area', 'Production',\n",
       "                                                   'Annual_Rainfall',\n",
       "                                                   'Input_Per_Unit_Area']),\n",
       "                                                 ('Season_order',\n",
       "                                                  OrdinalEncoder(categories=[['Winter',\n",
       "                                                                              'Summer...\n",
       "                                                 ('Year_order',\n",
       "                                                  OrdinalEncoder(categories=[['90s',\n",
       "                                                                              '2000s',\n",
       "                                                                              '2010s']]),\n",
       "                                                  ['Year_Interval']),\n",
       "                                                 ('OHE',\n",
       "                                                  OneHotEncoder(drop='first',\n",
       "                                                                handle_unknown='ignore'),\n",
       "                                                  ['Crop', 'State'])])),\n",
       "                ('kbest',\n",
       "                 SelectKBest(k=40,\n",
       "                             score_func=<function f_regression at 0x00000205F279C720>)),\n",
       "                ('RF_regressor',\n",
       "                 RandomForestRegressor(max_features=0.75, max_samples=0.75,\n",
       "                                       n_estimators=400, n_jobs=-1))])"
      ]
     },
     "execution_count": 37,
     "metadata": {},
     "output_type": "execute_result"
    }
   ],
   "source": [
    "pipe.fit(X_train,y_train.values.ravel())"
   ]
  },
  {
   "cell_type": "code",
   "execution_count": 38,
   "id": "311fb48e",
   "metadata": {
    "papermill": {
     "duration": 0.235785,
     "end_time": "2024-08-26T18:44:17.522910",
     "exception": false,
     "start_time": "2024-08-26T18:44:17.287125",
     "status": "completed"
    },
    "tags": []
   },
   "outputs": [],
   "source": [
    "y_pred = pipe.predict(X_test)"
   ]
  },
  {
   "cell_type": "code",
   "execution_count": 39,
   "id": "33c87851",
   "metadata": {
    "papermill": {
     "duration": 0.023086,
     "end_time": "2024-08-26T18:44:17.558333",
     "exception": false,
     "start_time": "2024-08-26T18:44:17.535247",
     "status": "completed"
    },
    "tags": []
   },
   "outputs": [
    {
     "data": {
      "text/plain": [
       "0.9135696397340287"
      ]
     },
     "execution_count": 39,
     "metadata": {},
     "output_type": "execute_result"
    }
   ],
   "source": [
    "from sklearn.metrics import accuracy_score, r2_score\n",
    "r2_score(y_test,y_pred)"
   ]
  },
  {
   "cell_type": "code",
   "execution_count": 40,
   "id": "7d96d186",
   "metadata": {
    "papermill": {
     "duration": 0.011433,
     "end_time": "2024-08-26T18:44:17.581458",
     "exception": false,
     "start_time": "2024-08-26T18:44:17.570025",
     "status": "completed"
    },
    "tags": []
   },
   "outputs": [],
   "source": [
    "import pickle\n",
    "pickle.dump(pipe,open('pipe.pkl','wb'))"
   ]
  },
  {
   "cell_type": "code",
   "execution_count": null,
   "id": "a8424938-3b04-47d1-b2f6-63be7d1f42d0",
   "metadata": {},
   "outputs": [],
   "source": []
  }
 ],
 "metadata": {
  "kaggle": {
   "accelerator": "nvidiaTeslaT4",
   "dataSources": [
    {
     "datasetId": 3525502,
     "sourceId": 6147658,
     "sourceType": "datasetVersion"
    }
   ],
   "dockerImageVersionId": 30746,
   "isGpuEnabled": true,
   "isInternetEnabled": true,
   "language": "python",
   "sourceType": "notebook"
  },
  "kernelspec": {
   "display_name": "Python 3 (ipykernel)",
   "language": "python",
   "name": "python3"
  },
  "language_info": {
   "codemirror_mode": {
    "name": "ipython",
    "version": 3
   },
   "file_extension": ".py",
   "mimetype": "text/x-python",
   "name": "python",
   "nbconvert_exporter": "python",
   "pygments_lexer": "ipython3",
   "version": "3.12.4"
  },
  "papermill": {
   "default_parameters": {},
   "duration": 76.413371,
   "end_time": "2024-08-26T18:44:18.115969",
   "environment_variables": {},
   "exception": null,
   "input_path": "__notebook__.ipynb",
   "output_path": "__notebook__.ipynb",
   "parameters": {},
   "start_time": "2024-08-26T18:43:01.702598",
   "version": "2.5.0"
  }
 },
 "nbformat": 4,
 "nbformat_minor": 5
}
